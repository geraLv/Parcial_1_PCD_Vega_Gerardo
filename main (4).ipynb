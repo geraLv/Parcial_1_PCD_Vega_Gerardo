{
 "cells": [
  {
   "cell_type": "markdown",
   "id": "9fee5ee9",
   "metadata": {},
   "source": [
    "# Examen Parcial n°1 2da Parte - TLP3 - Python para Ciencia de Datos.\n"
   ]
  },
  {
   "cell_type": "markdown",
   "id": "999099d0",
   "metadata": {},
   "source": [
    "**A partir del datasets brindado, realizar los siguientes procedimientos:**\n",
    "\n",
    "* Importar datasets con Pandas.\n",
    "* Explorar los datos con los metodos correspondientes. \n",
    "* Limpieza de los datos (Normalización de datos).\n",
    "* Obtener estadisticas.\n",
    "* Mostrar los datos procesados con graficos utilizando la libreria Matplotlib.\n",
    "* Exportar el contenido a un archivo sqlite utilizando PANDAS.\n",
    "\n",
    "\n",
    "**Importante: Se debe documentar cada procedimiento realizado, siguiendo la siguiente estructura:**\n",
    "\n",
    "1. Celda de Markdown (Documentación)\n",
    "2. Código (Sin comentarios, se debe documentar lo sufiente solo en la celda de markdown).\n",
    "\n",
    "\n",
    "### Criterios de Evaluación:\n",
    "\n",
    "1. No esta permitido el uso de IAs durante el examen. (Desactivar Copilot o cualquier herramienta de IA para autocompletar codigo.)\n",
    "\n",
    "2. Se deben utilizar nombres de variables descriptivos y claros (Utilizar la nomeclatura correspondiente para los nombres de variables).\n",
    "\n",
    "3. Comentarios claros y concisos que expliquen el propósito de cada sección del código en una celda de markdown antes del código.\n",
    "\n",
    "4. Utilizar mensajes de commit descriptivos. (Puedes utilizar la extension CONVENTIONAL COMMIT de VS-CODE).\n",
    "\n",
    "5. Entrega en tiempo y forma (Parciales entregados fuera de hora o con commits pasados el horario de entrega quedará invalidado.)\n",
    "\n",
    "6. Todo el código desarrollado debe ser subido a un repositorio en GitHub (el nombre del repositorio de seguir la siguiente estructura: \n",
    "**parcial1_tlp3_nombre_apellido**).\n",
    "\n",
    "7. Para resolver las actividades se debe insertar casillas de codigo entre cada actividad del cuaderno de Jupyter.\n",
    "\n",
    "8. Deben trabajar con el datasets adjunto.\n",
    "\n",
    "9. Una vez finalizado el examen, los resultados deben quedar guardados debajo de cada celda (NO EJECUTAR LA OPCIÓN \"borrar todas las salidas\").\n",
    "\n",
    "**Importante:** Una vez finalizado el examen, marcar como completado en el classroom."
   ]
  },
  {
   "cell_type": "markdown",
   "id": "dd91f969",
   "metadata": {},
   "source": [
    "## Actividades: \n",
    "### 1. Importación del Dataset con Pandas\n",
    "\n",
    "En esta sección, se debe utilizar la librería Pandas para cargar el archivo CSV que contiene los datos de VENTAS en un DataFrame.\n",
    "\n",
    "### 2. Exploración Inicial de los Datos\n",
    "\n",
    "A continuación, se deben emplear métodos de Pandas para obtener una visión general del dataset. \n",
    "- 2.1: Visualizar las primeras filas y ultimas.\n",
    "- 2.2: Obtener informacion del df con su metodo correspondiente.\n",
    "- 2.3: Hacer un conteo de valores nulos.\n",
    "\n",
    "### 3. Limpieza y Normalización de los Datos\n",
    "\n",
    "- 3.1. Esta etapa crucial deben aplicar la corrección de diversos errores presentes en el dataset. Se abordarán los valores faltantes (Deben aplicar los metodos que ustedes crean convenientes **(Solo 1)**, por ejemplo: Eliminación de filas, cubrir valores con media, mediana, etc.)\n",
    "- 3.2: La columna Fecha deberan pasarla al tipo datetime con su metodo correspondiente.\n",
    "- 3.3: Corregir las mayusculas en el caso de Nombre y Apellido (Si es que corresponde.)\n",
    "\n",
    "\n",
    "### 4. Obtención de Estadísticas Descriptivas\n",
    "\n",
    "Después de la limpieza, deben hacer lo siguiente: \n",
    "\n",
    "- 4.1: calcular nuevamente las estadísticas descriptivas para observar el impacto del proceso de limpieza en los datos numéricos.\n",
    "- 4.2: Calcular estadísticas específicas por grupo (Agrupar dos columnas).\n",
    "\n",
    "### 5. Visualización de los Datos con Matplotlib\n",
    "\n",
    "En esta sección, deben utilizar la librería Matplotlib para crear **UNA** visualización que permitan comprender mejor los datos de ventas.El grafico es a elección, puede crear **UNO** de los siguientes: histogramas, diagramas de dispersión, gráficos de barras y graficos de torta.\n",
    "\n",
    "### 6. Exportación a Archivo SQLite\n",
    "\n",
    "Finalmente, deben utilizar la funcionalidad de Pandas para guardar el DataFrame procesado en una base de datos SQLite. Deben hacer una conexión y hacer una consulta para ver si los datos fueron cargados correctamente.\n",
    "\n"
   ]
  },
  {
   "cell_type": "markdown",
   "id": "cd7b0678",
   "metadata": {},
   "source": [
    "Actividad_1\n",
    "Importaciones:\n"
   ]
  },
  {
   "cell_type": "code",
   "execution_count": 101,
   "id": "08a704ee",
   "metadata": {},
   "outputs": [],
   "source": [
    "import pandas as pd\n",
    "import matplotlib.pyplot as plt\n",
    "df=pd.read_csv(\"ventas.csv\")"
   ]
  },
  {
   "cell_type": "markdown",
   "id": "cc9556cb",
   "metadata": {},
   "source": [
    "Actividad_2\n",
    "Exploración inicial de datos:"
   ]
  },
  {
   "cell_type": "code",
   "execution_count": 102,
   "id": "25d15566",
   "metadata": {},
   "outputs": [
    {
     "name": "stdout",
     "output_type": "stream",
     "text": [
      "Primeras 5 filas\n",
      "   ID_Venta Nombre_Cliente Apellido_Cliente       Fecha  \\\n",
      "0         1            Ana           García  01-05-2024   \n",
      "1         2         Carlos            López  2024-01-08   \n",
      "2         3          sofía         martínez  2024-01-12   \n",
      "3         4          pedro        rodríguez  2024-01-15   \n",
      "4         5          Laura          Sánchez  18-01-2024   \n",
      "\n",
      "                Producto  Cantidad  Precio_Unitario  Total_Venta  \\\n",
      "0                 Laptop         1          1200.50      1200.50   \n",
      "1      Mouse Inalámbrico         2            25.75        51.50   \n",
      "2       Teclado Mecánico         1            75.99        75.99   \n",
      "3    Monitor 24 pulgadas         1              NaN          NaN   \n",
      "4  Auriculares Bluetooth         1            99.95        99.95   \n",
      "\n",
      "              Metodo_Pago Region  \n",
      "0      Tarjeta de Crédito  Norte  \n",
      "1                Efectivo    Sur  \n",
      "2  Transferencia Bancaria   Este  \n",
      "3       Tarjeta de Débito  Oeste  \n",
      "4      Tarjeta de Crédito  Norte  \n",
      "--------------------------------------------------\n",
      "Ultimas 5 filas\n",
      "     ID_Venta Nombre_Cliente Apellido_Cliente       Fecha  \\\n",
      "100       101        Agustín           Torres  2024-10-08   \n",
      "101       102         Camila             Vega  2024-10-11   \n",
      "102       103           Juan            Rojas  2024-10-15   \n",
      "103       104          Lucía            Silva  2024-10-18   \n",
      "104       105          mateo             luna  2024-10-22   \n",
      "\n",
      "                 Producto  Cantidad  Precio_Unitario  Total_Venta  \\\n",
      "100        Pen Drive 64GB         4             8.75         35.0   \n",
      "101         Laptop Ligera         1              NaN       1180.0   \n",
      "102                   NaN         1            48.99          NaN   \n",
      "103     Teclado Bluetooth         1            78.20         78.2   \n",
      "104  Monitor para Oficina         1             2.00        210.5   \n",
      "\n",
      "                Metodo_Pago Region  \n",
      "100       Tarjeta de Débito  Oeste  \n",
      "101      Tarjeta de Crédito  Norte  \n",
      "102                Efectivo    Sur  \n",
      "103  Transferencia Bancaria   Este  \n",
      "104       Tarjeta de Débito  Oeste  \n",
      "--------------------------------------------------\n"
     ]
    }
   ],
   "source": [
    "#visualización de las primeras y ultimas filas\n",
    "print(\"Primeras 5 filas\")\n",
    "print(df.head(5))\n",
    "print(50*\"-\")\n",
    "print(\"Ultimas 5 filas\")\n",
    "print(df.tail(5))\n",
    "print(50*\"-\")"
   ]
  },
  {
   "cell_type": "code",
   "execution_count": 103,
   "id": "fe788c93",
   "metadata": {},
   "outputs": [
    {
     "name": "stdout",
     "output_type": "stream",
     "text": [
      "Información del data set\n",
      "<class 'pandas.core.frame.DataFrame'>\n",
      "RangeIndex: 105 entries, 0 to 104\n",
      "Data columns (total 10 columns):\n",
      " #   Column            Non-Null Count  Dtype  \n",
      "---  ------            --------------  -----  \n",
      " 0   ID_Venta          105 non-null    int64  \n",
      " 1   Nombre_Cliente    105 non-null    object \n",
      " 2   Apellido_Cliente  105 non-null    object \n",
      " 3   Fecha             105 non-null    object \n",
      " 4   Producto          101 non-null    object \n",
      " 5   Cantidad          105 non-null    int64  \n",
      " 6   Precio_Unitario   92 non-null     float64\n",
      " 7   Total_Venta       92 non-null     float64\n",
      " 8   Metodo_Pago       94 non-null     object \n",
      " 9   Region            100 non-null    object \n",
      "dtypes: float64(2), int64(2), object(6)\n",
      "memory usage: 8.3+ KB\n",
      "None\n"
     ]
    }
   ],
   "source": [
    "print(\"Información del data set\")\n",
    "print(df.info())"
   ]
  },
  {
   "cell_type": "code",
   "execution_count": 104,
   "id": "b3c3c07b",
   "metadata": {},
   "outputs": [
    {
     "name": "stdout",
     "output_type": "stream",
     "text": [
      "Cantidad de valores nulos: \n",
      "ID_Venta             0\n",
      "Nombre_Cliente       0\n",
      "Apellido_Cliente     0\n",
      "Fecha                0\n",
      "Producto             4\n",
      "Cantidad             0\n",
      "Precio_Unitario     13\n",
      "Total_Venta         13\n",
      "Metodo_Pago         11\n",
      "Region               5\n",
      "dtype: int64\n"
     ]
    }
   ],
   "source": [
    "#Conteo de valores nulos\n",
    "print(\"Cantidad de valores nulos: \")\n",
    "print(df.isnull().sum())"
   ]
  },
  {
   "cell_type": "markdown",
   "id": "e34adcb8",
   "metadata": {},
   "source": [
    "Actividad_3\n",
    "Limpieza y Normalización de los Datos"
   ]
  },
  {
   "cell_type": "code",
   "execution_count": null,
   "id": "c23b741b",
   "metadata": {},
   "outputs": [
    {
     "data": {
      "text/plain": [
       "ID_Venta            0\n",
       "Nombre_Cliente      0\n",
       "Apellido_Cliente    0\n",
       "Fecha               0\n",
       "Producto            0\n",
       "Cantidad            0\n",
       "Precio_Unitario     0\n",
       "Total_Venta         0\n",
       "Metodo_Pago         0\n",
       "Region              0\n",
       "dtype: int64"
      ]
     },
     "execution_count": 105,
     "metadata": {},
     "output_type": "execute_result"
    }
   ],
   "source": [
    "#Limpiamos el data frame con el metodo fillna\n",
    "df[\"Precio_Unitario\"] = df[\"Precio_Unitario\"].fillna(df[\"Precio_Unitario\"].median())\n",
    "df[\"Total_Venta\"] = df[\"Total_Venta\"].fillna(df[\"Total_Venta\"].median())\n",
    "df[\"Producto\"] = df[\"Producto\"].fillna(\"productoPerdido\")\n",
    "df[\"Metodo_Pago\"] = df[\"Metodo_Pago\"].fillna(\"Metodo_Perdido\")\n",
    "df[\"Region\"] = df[\"Region\"].fillna(\"Region_Perdida\")\n",
    "df.isnull().sum()\n"
   ]
  },
  {
   "cell_type": "code",
   "execution_count": null,
   "id": "c57c8d98",
   "metadata": {},
   "outputs": [
    {
     "name": "stdout",
     "output_type": "stream",
     "text": [
      "0   2025-10-01\n",
      "1   2025-10-02\n",
      "2   2025-10-03\n",
      "3   2025-10-04\n",
      "4   2025-12-01\n",
      "5   2025-12-02\n",
      "6   2025-12-03\n",
      "7   2025-12-04\n",
      "8   2025-10-13\n",
      "9   2025-12-09\n",
      "dtype: datetime64[ns]\n",
      "<class 'pandas.core.frame.DataFrame'>\n",
      "RangeIndex: 105 entries, 0 to 104\n",
      "Data columns (total 10 columns):\n",
      " #   Column            Non-Null Count  Dtype  \n",
      "---  ------            --------------  -----  \n",
      " 0   ID_Venta          105 non-null    int64  \n",
      " 1   Nombre_Cliente    105 non-null    object \n",
      " 2   Apellido_Cliente  105 non-null    object \n",
      " 3   Fecha             105 non-null    object \n",
      " 4   Producto          105 non-null    object \n",
      " 5   Cantidad          105 non-null    int64  \n",
      " 6   Precio_Unitario   105 non-null    float64\n",
      " 7   Total_Venta       105 non-null    float64\n",
      " 8   Metodo_Pago       105 non-null    object \n",
      " 9   Region            105 non-null    object \n",
      "dtypes: float64(2), int64(2), object(6)\n",
      "memory usage: 8.3+ KB\n"
     ]
    }
   ],
   "source": [
    "#Comberitimos a la columna fecha en tipo datatime con to_datatime\n",
    "serie = [\"2025-10-01\", \"2025-10-02\", \"2025-10-03\", \"2025-10-04\", \"01-12-2025\", \"2025-12-02\", \"2025-12-03\", \"2025-12-04\", \"13-10-2025\", \"09-12-2025\"]\n",
    "\n",
    "\n",
    "serie = pd.Series(serie)\n",
    "\n",
    "serie1 = pd.to_datetime(serie, format=\"%Y-%m-%d\", errors=\"coerce\")\n",
    "serie2 = pd.to_datetime(serie, format=\"%d-%m-%Y\", errors=\"coerce\")\n",
    "\n",
    "\n",
    "serie_final = serie1.combine_first(serie2)\n",
    "\n",
    "\n",
    "print(serie_final)\n",
    "df.head(10)\n",
    "\n"
   ]
  },
  {
   "cell_type": "code",
   "execution_count": 108,
   "id": "c733772a",
   "metadata": {},
   "outputs": [
    {
     "data": {
      "text/html": [
       "<div>\n",
       "<style scoped>\n",
       "    .dataframe tbody tr th:only-of-type {\n",
       "        vertical-align: middle;\n",
       "    }\n",
       "\n",
       "    .dataframe tbody tr th {\n",
       "        vertical-align: top;\n",
       "    }\n",
       "\n",
       "    .dataframe thead th {\n",
       "        text-align: right;\n",
       "    }\n",
       "</style>\n",
       "<table border=\"1\" class=\"dataframe\">\n",
       "  <thead>\n",
       "    <tr style=\"text-align: right;\">\n",
       "      <th></th>\n",
       "      <th>ID_Venta</th>\n",
       "      <th>Nombre_Cliente</th>\n",
       "      <th>Apellido_Cliente</th>\n",
       "      <th>Fecha</th>\n",
       "      <th>Producto</th>\n",
       "      <th>Cantidad</th>\n",
       "      <th>Precio_Unitario</th>\n",
       "      <th>Total_Venta</th>\n",
       "      <th>Metodo_Pago</th>\n",
       "      <th>Region</th>\n",
       "    </tr>\n",
       "  </thead>\n",
       "  <tbody>\n",
       "    <tr>\n",
       "      <th>0</th>\n",
       "      <td>1</td>\n",
       "      <td>Ana</td>\n",
       "      <td>García</td>\n",
       "      <td>01-05-2024</td>\n",
       "      <td>Laptop</td>\n",
       "      <td>1</td>\n",
       "      <td>1200.50</td>\n",
       "      <td>1200.50</td>\n",
       "      <td>Tarjeta de Crédito</td>\n",
       "      <td>Norte</td>\n",
       "    </tr>\n",
       "    <tr>\n",
       "      <th>1</th>\n",
       "      <td>2</td>\n",
       "      <td>Carlos</td>\n",
       "      <td>López</td>\n",
       "      <td>2024-01-08</td>\n",
       "      <td>Mouse Inalámbrico</td>\n",
       "      <td>2</td>\n",
       "      <td>25.75</td>\n",
       "      <td>51.50</td>\n",
       "      <td>Efectivo</td>\n",
       "      <td>Sur</td>\n",
       "    </tr>\n",
       "    <tr>\n",
       "      <th>2</th>\n",
       "      <td>3</td>\n",
       "      <td>Sofía</td>\n",
       "      <td>Martínez</td>\n",
       "      <td>2024-01-12</td>\n",
       "      <td>Teclado Mecánico</td>\n",
       "      <td>1</td>\n",
       "      <td>75.99</td>\n",
       "      <td>75.99</td>\n",
       "      <td>Transferencia Bancaria</td>\n",
       "      <td>Este</td>\n",
       "    </tr>\n",
       "    <tr>\n",
       "      <th>3</th>\n",
       "      <td>4</td>\n",
       "      <td>Pedro</td>\n",
       "      <td>Rodríguez</td>\n",
       "      <td>2024-01-15</td>\n",
       "      <td>Monitor 24 pulgadas</td>\n",
       "      <td>1</td>\n",
       "      <td>90.99</td>\n",
       "      <td>97.25</td>\n",
       "      <td>Tarjeta de Débito</td>\n",
       "      <td>Oeste</td>\n",
       "    </tr>\n",
       "    <tr>\n",
       "      <th>4</th>\n",
       "      <td>5</td>\n",
       "      <td>Laura</td>\n",
       "      <td>Sánchez</td>\n",
       "      <td>18-01-2024</td>\n",
       "      <td>Auriculares Bluetooth</td>\n",
       "      <td>1</td>\n",
       "      <td>99.95</td>\n",
       "      <td>99.95</td>\n",
       "      <td>Tarjeta de Crédito</td>\n",
       "      <td>Norte</td>\n",
       "    </tr>\n",
       "    <tr>\n",
       "      <th>5</th>\n",
       "      <td>6</td>\n",
       "      <td>Diego</td>\n",
       "      <td>Pérez</td>\n",
       "      <td>2024-01-22</td>\n",
       "      <td>Webcam HD</td>\n",
       "      <td>1</td>\n",
       "      <td>45.50</td>\n",
       "      <td>45.50</td>\n",
       "      <td>Efectivo</td>\n",
       "      <td>Sur</td>\n",
       "    </tr>\n",
       "    <tr>\n",
       "      <th>6</th>\n",
       "      <td>7</td>\n",
       "      <td>Valentina</td>\n",
       "      <td>Flores</td>\n",
       "      <td>2024-01-25</td>\n",
       "      <td>Impresora Multifunción</td>\n",
       "      <td>1</td>\n",
       "      <td>150.75</td>\n",
       "      <td>150.75</td>\n",
       "      <td>Transferencia Bancaria</td>\n",
       "      <td>Este</td>\n",
       "    </tr>\n",
       "    <tr>\n",
       "      <th>7</th>\n",
       "      <td>8</td>\n",
       "      <td>Juan</td>\n",
       "      <td>Ramírez</td>\n",
       "      <td>2024-01-29</td>\n",
       "      <td>Parlantes Estéreo</td>\n",
       "      <td>2</td>\n",
       "      <td>90.99</td>\n",
       "      <td>97.25</td>\n",
       "      <td>Tarjeta de Débito</td>\n",
       "      <td>Oeste</td>\n",
       "    </tr>\n",
       "    <tr>\n",
       "      <th>8</th>\n",
       "      <td>9</td>\n",
       "      <td>Martina</td>\n",
       "      <td>Díaz</td>\n",
       "      <td>2024-02-02</td>\n",
       "      <td>SSD 1TB</td>\n",
       "      <td>1</td>\n",
       "      <td>110.00</td>\n",
       "      <td>110.00</td>\n",
       "      <td>Tarjeta de Crédito</td>\n",
       "      <td>Norte</td>\n",
       "    </tr>\n",
       "    <tr>\n",
       "      <th>9</th>\n",
       "      <td>10</td>\n",
       "      <td>Sebastián</td>\n",
       "      <td>Gómez</td>\n",
       "      <td>2024-02-05</td>\n",
       "      <td>Memoria RAM 16GB</td>\n",
       "      <td>1</td>\n",
       "      <td>65.80</td>\n",
       "      <td>65.80</td>\n",
       "      <td>Efectivo</td>\n",
       "      <td>Sur</td>\n",
       "    </tr>\n",
       "  </tbody>\n",
       "</table>\n",
       "</div>"
      ],
      "text/plain": [
       "   ID_Venta Nombre_Cliente Apellido_Cliente       Fecha  \\\n",
       "0         1            Ana           García  01-05-2024   \n",
       "1         2         Carlos            López  2024-01-08   \n",
       "2         3          Sofía         Martínez  2024-01-12   \n",
       "3         4          Pedro        Rodríguez  2024-01-15   \n",
       "4         5          Laura          Sánchez  18-01-2024   \n",
       "5         6          Diego            Pérez  2024-01-22   \n",
       "6         7      Valentina           Flores  2024-01-25   \n",
       "7         8           Juan          Ramírez  2024-01-29   \n",
       "8         9        Martina             Díaz  2024-02-02   \n",
       "9        10      Sebastián            Gómez  2024-02-05   \n",
       "\n",
       "                 Producto  Cantidad  Precio_Unitario  Total_Venta  \\\n",
       "0                  Laptop         1          1200.50      1200.50   \n",
       "1       Mouse Inalámbrico         2            25.75        51.50   \n",
       "2        Teclado Mecánico         1            75.99        75.99   \n",
       "3     Monitor 24 pulgadas         1            90.99        97.25   \n",
       "4   Auriculares Bluetooth         1            99.95        99.95   \n",
       "5               Webcam HD         1            45.50        45.50   \n",
       "6  Impresora Multifunción         1           150.75       150.75   \n",
       "7       Parlantes Estéreo         2            90.99        97.25   \n",
       "8                 SSD 1TB         1           110.00       110.00   \n",
       "9        Memoria RAM 16GB         1            65.80        65.80   \n",
       "\n",
       "              Metodo_Pago Region  \n",
       "0      Tarjeta de Crédito  Norte  \n",
       "1                Efectivo    Sur  \n",
       "2  Transferencia Bancaria   Este  \n",
       "3       Tarjeta de Débito  Oeste  \n",
       "4      Tarjeta de Crédito  Norte  \n",
       "5                Efectivo    Sur  \n",
       "6  Transferencia Bancaria   Este  \n",
       "7       Tarjeta de Débito  Oeste  \n",
       "8      Tarjeta de Crédito  Norte  \n",
       "9                Efectivo    Sur  "
      ]
     },
     "execution_count": 108,
     "metadata": {},
     "output_type": "execute_result"
    }
   ],
   "source": [
    "#Corregimos las mayusculas en las columnas nombre cliente y apellido cliente\n",
    "df[\"Nombre_Cliente\"] = df[\"Nombre_Cliente\"].str.title()\n",
    "df[\"Apellido_Cliente\"] = df[\"Apellido_Cliente\"].str.title()\n",
    "df.head(10)"
   ]
  },
  {
   "cell_type": "markdown",
   "id": "8d75cf6b",
   "metadata": {},
   "source": [
    "Actividad_4\n",
    "Obtención de Estadísticas Descriptivas"
   ]
  },
  {
   "cell_type": "code",
   "execution_count": null,
   "id": "a882c313",
   "metadata": {},
   "outputs": [
    {
     "name": "stdout",
     "output_type": "stream",
     "text": [
      "Primeras 5 filas\n",
      "   ID_Venta Nombre_Cliente Apellido_Cliente       Fecha  \\\n",
      "0         1            Ana           García  01-05-2024   \n",
      "1         2         Carlos            López  2024-01-08   \n",
      "2         3          Sofía         Martínez  2024-01-12   \n",
      "3         4          Pedro        Rodríguez  2024-01-15   \n",
      "4         5          Laura          Sánchez  18-01-2024   \n",
      "\n",
      "                Producto  Cantidad  Precio_Unitario  Total_Venta  \\\n",
      "0                 Laptop         1          1200.50      1200.50   \n",
      "1      Mouse Inalámbrico         2            25.75        51.50   \n",
      "2       Teclado Mecánico         1            75.99        75.99   \n",
      "3    Monitor 24 pulgadas         1            90.99        97.25   \n",
      "4  Auriculares Bluetooth         1            99.95        99.95   \n",
      "\n",
      "              Metodo_Pago Region  \n",
      "0      Tarjeta de Crédito  Norte  \n",
      "1                Efectivo    Sur  \n",
      "2  Transferencia Bancaria   Este  \n",
      "3       Tarjeta de Débito  Oeste  \n",
      "4      Tarjeta de Crédito  Norte  \n"
     ]
    }
   ],
   "source": [
    "print(\"Primeras 5 filas: \")\n",
    "print(df.head(5))"
   ]
  },
  {
   "cell_type": "code",
   "execution_count": null,
   "id": "fbb443d8",
   "metadata": {},
   "outputs": [
    {
     "name": "stdout",
     "output_type": "stream",
     "text": [
      "Ultimas 5 filas\n",
      "   ID_Venta Nombre_Cliente Apellido_Cliente       Fecha  \\\n",
      "0         1            Ana           García  01-05-2024   \n",
      "1         2         Carlos            López  2024-01-08   \n",
      "2         3          Sofía         Martínez  2024-01-12   \n",
      "3         4          Pedro        Rodríguez  2024-01-15   \n",
      "4         5          Laura          Sánchez  18-01-2024   \n",
      "\n",
      "                Producto  Cantidad  Precio_Unitario  Total_Venta  \\\n",
      "0                 Laptop         1          1200.50      1200.50   \n",
      "1      Mouse Inalámbrico         2            25.75        51.50   \n",
      "2       Teclado Mecánico         1            75.99        75.99   \n",
      "3    Monitor 24 pulgadas         1            90.99        97.25   \n",
      "4  Auriculares Bluetooth         1            99.95        99.95   \n",
      "\n",
      "              Metodo_Pago Region  \n",
      "0      Tarjeta de Crédito  Norte  \n",
      "1                Efectivo    Sur  \n",
      "2  Transferencia Bancaria   Este  \n",
      "3       Tarjeta de Débito  Oeste  \n",
      "4      Tarjeta de Crédito  Norte  \n"
     ]
    }
   ],
   "source": [
    "print(\"Ultimas 5 filas: \")\n",
    "print(df.head(5))"
   ]
  },
  {
   "cell_type": "code",
   "execution_count": null,
   "id": "a36ec4cd",
   "metadata": {},
   "outputs": [
    {
     "name": "stdout",
     "output_type": "stream",
     "text": [
      "<class 'pandas.core.frame.DataFrame'>\n",
      "RangeIndex: 105 entries, 0 to 104\n",
      "Data columns (total 10 columns):\n",
      " #   Column            Non-Null Count  Dtype  \n",
      "---  ------            --------------  -----  \n",
      " 0   ID_Venta          105 non-null    int64  \n",
      " 1   Nombre_Cliente    105 non-null    object \n",
      " 2   Apellido_Cliente  105 non-null    object \n",
      " 3   Fecha             105 non-null    object \n",
      " 4   Producto          105 non-null    object \n",
      " 5   Cantidad          105 non-null    int64  \n",
      " 6   Precio_Unitario   105 non-null    float64\n",
      " 7   Total_Venta       105 non-null    float64\n",
      " 8   Metodo_Pago       105 non-null    object \n",
      " 9   Region            105 non-null    object \n",
      "dtypes: float64(2), int64(2), object(6)\n",
      "memory usage: 8.3+ KB\n"
     ]
    }
   ],
   "source": [
    "#Informacion del data frame\n",
    "df.info()"
   ]
  },
  {
   "cell_type": "code",
   "execution_count": null,
   "id": "be936a35",
   "metadata": {},
   "outputs": [
    {
     "data": {
      "text/plain": [
       "count    84.000000\n",
       "mean      1.190476\n",
       "std       0.502432\n",
       "min       1.000000\n",
       "25%       1.000000\n",
       "50%       1.000000\n",
       "75%       1.000000\n",
       "max       4.000000\n",
       "Name: Cantidad, dtype: float64"
      ]
     },
     "execution_count": 121,
     "metadata": {},
     "output_type": "execute_result"
    }
   ],
   "source": [
    "#Calculamos las estadisticas especifica de Cantidad de ventas por fecha\n",
    "ventas_por_fecha = df.groupby(\"Fecha\")[\"Cantidad\"].mean()\n",
    "ventas_por_fecha.describe()"
   ]
  },
  {
   "cell_type": "code",
   "execution_count": 120,
   "id": "112d96b0",
   "metadata": {},
   "outputs": [
    {
     "name": "stdout",
     "output_type": "stream",
     "text": [
      "Cantidad de valores nulos: \n"
     ]
    },
    {
     "data": {
      "text/plain": [
       "ID_Venta            0\n",
       "Nombre_Cliente      0\n",
       "Apellido_Cliente    0\n",
       "Fecha               0\n",
       "Producto            0\n",
       "Cantidad            0\n",
       "Precio_Unitario     0\n",
       "Total_Venta         0\n",
       "Metodo_Pago         0\n",
       "Region              0\n",
       "dtype: int64"
      ]
     },
     "execution_count": 120,
     "metadata": {},
     "output_type": "execute_result"
    }
   ],
   "source": [
    "print(\"Cantidad de valores nulos: \")\n",
    "df.isnull().sum()"
   ]
  },
  {
   "cell_type": "markdown",
   "id": "41ce03c8",
   "metadata": {},
   "source": [
    "Actividad_5\n",
    "Visualización de los Datos con Matplotlib"
   ]
  },
  {
   "cell_type": "code",
   "execution_count": null,
   "id": "875f06ff",
   "metadata": {},
   "outputs": [
    {
     "data": {
      "text/plain": [
       "([0, 1, 2, 3, 4],\n",
       " [Text(0, 0, 'Este'),\n",
       "  Text(1, 0, 'Norte'),\n",
       "  Text(2, 0, 'Oeste'),\n",
       "  Text(3, 0, 'Region_Perdida'),\n",
       "  Text(4, 0, 'Sur')])"
      ]
     },
     "execution_count": 119,
     "metadata": {},
     "output_type": "execute_result"
    },
    {
     "data": {
      "image/png": "[encoded data removed]",
      "text/plain": [
       "<Figure size 640x480 with 1 Axes>"
      ]
     },
     "metadata": {},
     "output_type": "display_data"
    }
   ],
   "source": [
    "#Agrupamos las columnas region y cantidad en una variable\n",
    "ventas_por_region = df.groupby(\"Region\")[\"Cantidad\"].mean()\n",
    "\n",
    "#Generamos un grafico de barras y la pasamos los datos de la variable que creamos\n",
    "plt.Figure(figsize=(14,9))\n",
    "plt.title(\"Region con más ventas\")\n",
    "plt.bar(ventas_por_region.index,ventas_por_region.values, color=\"brown\",alpha=0.6,edgecolor=\"black\")\n",
    "plt.xticks(rotation=45)"
   ]
  },
  {
   "cell_type": "markdown",
   "id": "97fb2917",
   "metadata": {},
   "source": [
    "Actividad_6\n",
    "Exportación a Archivo SQLite"
   ]
  },
  {
   "cell_type": "code",
   "execution_count": null,
   "id": "5bbd2bb1",
   "metadata": {},
   "outputs": [],
   "source": [
    "import sqlite3\n",
    "#Creamos una coneccion\n",
    "conn = sqlite3.connect(\"ventas.sqlite\")\n",
    "#Convertimos el df en sql y le pasamos la coneccion\n",
    "df.to_sql(\"ventas\",conn,index=False)\n",
    "conn.close()"
   ]
  }
 ],
 "metadata": {
  "kernelspec": {
   "display_name": "env",
   "language": "python",
   "name": "python3"
  },
  "language_info": {
   "codemirror_mode": {
    "name": "ipython",
    "version": 3
   },
   "file_extension": ".py",
   "mimetype": "text/x-python",
   "name": "python",
   "nbconvert_exporter": "python",
   "pygments_lexer": "ipython3",
   "version": "3.12.9"
  }
 },
 "nbformat": 4,
 "nbformat_minor": 5
}
